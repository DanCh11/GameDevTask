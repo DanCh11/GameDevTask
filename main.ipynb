{
 "metadata": {
  "language_info": {
   "codemirror_mode": {
    "name": "ipython",
    "version": 3
   },
   "file_extension": ".py",
   "mimetype": "text/x-python",
   "name": "python",
   "nbconvert_exporter": "python",
   "pygments_lexer": "ipython3",
   "version": 3
  },
  "orig_nbformat": 2,
  "kernelspec": {
   "name": "python_defaultSpec_1596533178722",
   "display_name": "Python 3.7.6 64-bit ('env': venv)"
  }
 },
 "nbformat": 4,
 "nbformat_minor": 2,
 "cells": [
  {
   "cell_type": "code",
   "execution_count": 3,
   "metadata": {},
   "outputs": [],
   "source": [
    "# data reader\n",
    "import pandas as pd\n",
    "# data matching library\n",
    "import fuzzymatcher\n",
    "\n",
    "import warnings\n",
    "warnings.filterwarnings('ignore')"
   ]
  },
  {
   "cell_type": "code",
   "execution_count": 4,
   "metadata": {},
   "outputs": [],
   "source": [
    "# import excel data\n",
    "profs_filename = './data/profs.xlsx'\n",
    "skills = './data/Skills.xlsx'"
   ]
  },
  {
   "cell_type": "code",
   "execution_count": 5,
   "metadata": {},
   "outputs": [],
   "source": [
    "# read the data\n",
    "df_profs = pd.read_excel(profs_filename)\n",
    "df_skills = pd.read_excel(skills)"
   ]
  },
  {
   "cell_type": "code",
   "execution_count": 6,
   "metadata": {},
   "outputs": [
    {
     "output_type": "execute_result",
     "data": {
      "text/plain": "                   Proffesions\n0                          CFO\n1                 Head Cashier\n2  Field Application Scientist\n3     Senior Software Engineer\n4                        Owner",
      "text/html": "<div>\n<style scoped>\n    .dataframe tbody tr th:only-of-type {\n        vertical-align: middle;\n    }\n\n    .dataframe tbody tr th {\n        vertical-align: top;\n    }\n\n    .dataframe thead th {\n        text-align: right;\n    }\n</style>\n<table border=\"1\" class=\"dataframe\">\n  <thead>\n    <tr style=\"text-align: right;\">\n      <th></th>\n      <th>Proffesions</th>\n    </tr>\n  </thead>\n  <tbody>\n    <tr>\n      <th>0</th>\n      <td>CFO</td>\n    </tr>\n    <tr>\n      <th>1</th>\n      <td>Head Cashier</td>\n    </tr>\n    <tr>\n      <th>2</th>\n      <td>Field Application Scientist</td>\n    </tr>\n    <tr>\n      <th>3</th>\n      <td>Senior Software Engineer</td>\n    </tr>\n    <tr>\n      <th>4</th>\n      <td>Owner</td>\n    </tr>\n  </tbody>\n</table>\n</div>"
     },
     "metadata": {},
     "execution_count": 6
    }
   ],
   "source": [
    "df_profs.head()"
   ]
  },
  {
   "cell_type": "code",
   "execution_count": 7,
   "metadata": {},
   "outputs": [
    {
     "output_type": "execute_result",
     "data": {
      "text/plain": "  O*NET-SOC Code             Title Element ID           Element Name Scale ID  \\\n0     11-1011.00  Chief Executives    2.A.1.a  Reading Comprehension       IM   \n1     11-1011.00  Chief Executives    2.A.1.a  Reading Comprehension       LV   \n2     11-1011.00  Chief Executives    2.A.1.b       Active Listening       IM   \n3     11-1011.00  Chief Executives    2.A.1.b       Active Listening       LV   \n4     11-1011.00  Chief Executives    2.A.1.c                Writing       IM   \n\n   Scale Name  Data Value    N  Standard Error  Lower CI Bound  \\\n0  Importance        4.12  8.0            0.13            3.88   \n1       Level        4.75  8.0            0.16            4.43   \n2  Importance        4.12  8.0            0.13            3.88   \n3       Level        4.88  8.0            0.23            4.43   \n4  Importance        4.00  8.0            0.00            4.00   \n\n   Upper CI Bound Recommend Suppress Not Relevant     Date Domain Source  \n0            4.37                  N          NaN  07/2014       Analyst  \n1            5.07                  N            N  07/2014       Analyst  \n2            4.37                  N          NaN  07/2014       Analyst  \n3            5.32                  N            N  07/2014       Analyst  \n4            4.00                  N          NaN  07/2014       Analyst  ",
      "text/html": "<div>\n<style scoped>\n    .dataframe tbody tr th:only-of-type {\n        vertical-align: middle;\n    }\n\n    .dataframe tbody tr th {\n        vertical-align: top;\n    }\n\n    .dataframe thead th {\n        text-align: right;\n    }\n</style>\n<table border=\"1\" class=\"dataframe\">\n  <thead>\n    <tr style=\"text-align: right;\">\n      <th></th>\n      <th>O*NET-SOC Code</th>\n      <th>Title</th>\n      <th>Element ID</th>\n      <th>Element Name</th>\n      <th>Scale ID</th>\n      <th>Scale Name</th>\n      <th>Data Value</th>\n      <th>N</th>\n      <th>Standard Error</th>\n      <th>Lower CI Bound</th>\n      <th>Upper CI Bound</th>\n      <th>Recommend Suppress</th>\n      <th>Not Relevant</th>\n      <th>Date</th>\n      <th>Domain Source</th>\n    </tr>\n  </thead>\n  <tbody>\n    <tr>\n      <th>0</th>\n      <td>11-1011.00</td>\n      <td>Chief Executives</td>\n      <td>2.A.1.a</td>\n      <td>Reading Comprehension</td>\n      <td>IM</td>\n      <td>Importance</td>\n      <td>4.12</td>\n      <td>8.0</td>\n      <td>0.13</td>\n      <td>3.88</td>\n      <td>4.37</td>\n      <td>N</td>\n      <td>NaN</td>\n      <td>07/2014</td>\n      <td>Analyst</td>\n    </tr>\n    <tr>\n      <th>1</th>\n      <td>11-1011.00</td>\n      <td>Chief Executives</td>\n      <td>2.A.1.a</td>\n      <td>Reading Comprehension</td>\n      <td>LV</td>\n      <td>Level</td>\n      <td>4.75</td>\n      <td>8.0</td>\n      <td>0.16</td>\n      <td>4.43</td>\n      <td>5.07</td>\n      <td>N</td>\n      <td>N</td>\n      <td>07/2014</td>\n      <td>Analyst</td>\n    </tr>\n    <tr>\n      <th>2</th>\n      <td>11-1011.00</td>\n      <td>Chief Executives</td>\n      <td>2.A.1.b</td>\n      <td>Active Listening</td>\n      <td>IM</td>\n      <td>Importance</td>\n      <td>4.12</td>\n      <td>8.0</td>\n      <td>0.13</td>\n      <td>3.88</td>\n      <td>4.37</td>\n      <td>N</td>\n      <td>NaN</td>\n      <td>07/2014</td>\n      <td>Analyst</td>\n    </tr>\n    <tr>\n      <th>3</th>\n      <td>11-1011.00</td>\n      <td>Chief Executives</td>\n      <td>2.A.1.b</td>\n      <td>Active Listening</td>\n      <td>LV</td>\n      <td>Level</td>\n      <td>4.88</td>\n      <td>8.0</td>\n      <td>0.23</td>\n      <td>4.43</td>\n      <td>5.32</td>\n      <td>N</td>\n      <td>N</td>\n      <td>07/2014</td>\n      <td>Analyst</td>\n    </tr>\n    <tr>\n      <th>4</th>\n      <td>11-1011.00</td>\n      <td>Chief Executives</td>\n      <td>2.A.1.c</td>\n      <td>Writing</td>\n      <td>IM</td>\n      <td>Importance</td>\n      <td>4.00</td>\n      <td>8.0</td>\n      <td>0.00</td>\n      <td>4.00</td>\n      <td>4.00</td>\n      <td>N</td>\n      <td>NaN</td>\n      <td>07/2014</td>\n      <td>Analyst</td>\n    </tr>\n  </tbody>\n</table>\n</div>"
     },
     "metadata": {},
     "execution_count": 7
    }
   ],
   "source": [
    "df_skills.head()"
   ]
  },
  {
   "cell_type": "code",
   "execution_count": 8,
   "metadata": {},
   "outputs": [],
   "source": [
    "on_left = ['Proffesions']\n",
    "on_right = ['Title']"
   ]
  },
  {
   "cell_type": "code",
   "execution_count": 9,
   "metadata": {},
   "outputs": [],
   "source": [
    "match_results = fuzzymatcher.fuzzy_left_join(df_profs,\n",
    "                                            df_skills,\n",
    "                                            on_left,\n",
    "                                            on_right)"
   ]
  },
  {
   "cell_type": "code",
   "execution_count": 10,
   "metadata": {},
   "outputs": [],
   "source": [
    "cols = [\n",
    "    'best_match_score', 'Proffesions', 'Title', 'Data Value', 'Standard Error', 'Lower CI Bound', 'Upper CI Bound'\n",
    "]"
   ]
  },
  {
   "cell_type": "code",
   "execution_count": 11,
   "metadata": {},
   "outputs": [
    {
     "output_type": "execute_result",
     "data": {
      "text/plain": "       best_match_score                       Proffesions  \\\n14272          0.666836    Oral and Maxillofacial Surgeon   \n14018          0.580219       Graduate Teaching Assistant   \n5552           0.525703    Document Management Specialist   \n7885           0.438576  Emergency Management Coordinator   \n3637           0.362685               Physician Assistant   \n\n                                 Title  Data Value  Standard Error  \\\n14272  Oral and Maxillofacial Surgeons        4.00            0.00   \n14018     Graduate Teaching Assistants        3.88            0.13   \n5552   Document Management Specialists        3.88            0.23   \n7885    Emergency Management Directors        4.00            0.00   \n3637              Physician Assistants        4.12            0.13   \n\n       Lower CI Bound  Upper CI Bound  \n14272            4.00            4.00  \n14018            3.63            4.12  \n5552             3.43            4.32  \n7885             4.00            4.00  \n3637             3.88            4.37  ",
      "text/html": "<div>\n<style scoped>\n    .dataframe tbody tr th:only-of-type {\n        vertical-align: middle;\n    }\n\n    .dataframe tbody tr th {\n        vertical-align: top;\n    }\n\n    .dataframe thead th {\n        text-align: right;\n    }\n</style>\n<table border=\"1\" class=\"dataframe\">\n  <thead>\n    <tr style=\"text-align: right;\">\n      <th></th>\n      <th>best_match_score</th>\n      <th>Proffesions</th>\n      <th>Title</th>\n      <th>Data Value</th>\n      <th>Standard Error</th>\n      <th>Lower CI Bound</th>\n      <th>Upper CI Bound</th>\n    </tr>\n  </thead>\n  <tbody>\n    <tr>\n      <th>14272</th>\n      <td>0.666836</td>\n      <td>Oral and Maxillofacial Surgeon</td>\n      <td>Oral and Maxillofacial Surgeons</td>\n      <td>4.00</td>\n      <td>0.00</td>\n      <td>4.00</td>\n      <td>4.00</td>\n    </tr>\n    <tr>\n      <th>14018</th>\n      <td>0.580219</td>\n      <td>Graduate Teaching Assistant</td>\n      <td>Graduate Teaching Assistants</td>\n      <td>3.88</td>\n      <td>0.13</td>\n      <td>3.63</td>\n      <td>4.12</td>\n    </tr>\n    <tr>\n      <th>5552</th>\n      <td>0.525703</td>\n      <td>Document Management Specialist</td>\n      <td>Document Management Specialists</td>\n      <td>3.88</td>\n      <td>0.23</td>\n      <td>3.43</td>\n      <td>4.32</td>\n    </tr>\n    <tr>\n      <th>7885</th>\n      <td>0.438576</td>\n      <td>Emergency Management Coordinator</td>\n      <td>Emergency Management Directors</td>\n      <td>4.00</td>\n      <td>0.00</td>\n      <td>4.00</td>\n      <td>4.00</td>\n    </tr>\n    <tr>\n      <th>3637</th>\n      <td>0.362685</td>\n      <td>Physician Assistant</td>\n      <td>Physician Assistants</td>\n      <td>4.12</td>\n      <td>0.13</td>\n      <td>3.88</td>\n      <td>4.37</td>\n    </tr>\n  </tbody>\n</table>\n</div>"
     },
     "metadata": {},
     "execution_count": 11
    }
   ],
   "source": [
    "match_results[cols].sort_values(by=['best_match_score'], ascending=False).head()"
   ]
  },
  {
   "cell_type": "code",
   "execution_count": 12,
   "metadata": {},
   "outputs": [
    {
     "output_type": "execute_result",
     "data": {
      "text/plain": "       best_match_score                          Proffesions  \\\n16343         -0.813504  State of Tennessee AMLS Coordinator   \n12639         -0.749448            Garden of Hope Propagator   \n13813         -0.729379      University of California, Davis   \n8494          -0.729379     Chaminade University of Honolulu   \n4744          -0.719345            University of the Pacific   \n\n                                                   Title  Data Value  \\\n16343  Agents and Business Managers of Artists, Perfo...        3.88   \n12639  Agents and Business Managers of Artists, Perfo...        3.88   \n13813  Agents and Business Managers of Artists, Perfo...        3.88   \n8494   Agents and Business Managers of Artists, Perfo...        3.88   \n4744   Agents and Business Managers of Artists, Perfo...        3.88   \n\n       Standard Error  Lower CI Bound  Upper CI Bound  \n16343            0.13            3.63            4.12  \n12639            0.13            3.63            4.12  \n13813            0.13            3.63            4.12  \n8494             0.13            3.63            4.12  \n4744             0.13            3.63            4.12  ",
      "text/html": "<div>\n<style scoped>\n    .dataframe tbody tr th:only-of-type {\n        vertical-align: middle;\n    }\n\n    .dataframe tbody tr th {\n        vertical-align: top;\n    }\n\n    .dataframe thead th {\n        text-align: right;\n    }\n</style>\n<table border=\"1\" class=\"dataframe\">\n  <thead>\n    <tr style=\"text-align: right;\">\n      <th></th>\n      <th>best_match_score</th>\n      <th>Proffesions</th>\n      <th>Title</th>\n      <th>Data Value</th>\n      <th>Standard Error</th>\n      <th>Lower CI Bound</th>\n      <th>Upper CI Bound</th>\n    </tr>\n  </thead>\n  <tbody>\n    <tr>\n      <th>16343</th>\n      <td>-0.813504</td>\n      <td>State of Tennessee AMLS Coordinator</td>\n      <td>Agents and Business Managers of Artists, Perfo...</td>\n      <td>3.88</td>\n      <td>0.13</td>\n      <td>3.63</td>\n      <td>4.12</td>\n    </tr>\n    <tr>\n      <th>12639</th>\n      <td>-0.749448</td>\n      <td>Garden of Hope Propagator</td>\n      <td>Agents and Business Managers of Artists, Perfo...</td>\n      <td>3.88</td>\n      <td>0.13</td>\n      <td>3.63</td>\n      <td>4.12</td>\n    </tr>\n    <tr>\n      <th>13813</th>\n      <td>-0.729379</td>\n      <td>University of California, Davis</td>\n      <td>Agents and Business Managers of Artists, Perfo...</td>\n      <td>3.88</td>\n      <td>0.13</td>\n      <td>3.63</td>\n      <td>4.12</td>\n    </tr>\n    <tr>\n      <th>8494</th>\n      <td>-0.729379</td>\n      <td>Chaminade University of Honolulu</td>\n      <td>Agents and Business Managers of Artists, Perfo...</td>\n      <td>3.88</td>\n      <td>0.13</td>\n      <td>3.63</td>\n      <td>4.12</td>\n    </tr>\n    <tr>\n      <th>4744</th>\n      <td>-0.719345</td>\n      <td>University of the Pacific</td>\n      <td>Agents and Business Managers of Artists, Perfo...</td>\n      <td>3.88</td>\n      <td>0.13</td>\n      <td>3.63</td>\n      <td>4.12</td>\n    </tr>\n  </tbody>\n</table>\n</div>"
     },
     "metadata": {},
     "execution_count": 12
    }
   ],
   "source": [
    "match_results[cols].sort_values(by=['best_match_score'], ascending=True).head()"
   ]
  },
  {
   "cell_type": "code",
   "execution_count": 13,
   "metadata": {},
   "outputs": [],
   "source": [
    "match_results = match_results[cols].query('best_match_score <= .80').sort_values(\n",
    "        by=['best_match_score'], ascending=False)"
   ]
  },
  {
   "cell_type": "code",
   "execution_count": 14,
   "metadata": {},
   "outputs": [],
   "source": [
    "match_results = match_results.iloc[:75]"
   ]
  },
  {
   "cell_type": "code",
   "execution_count": 15,
   "metadata": {},
   "outputs": [],
   "source": [
    "score = match_results.drop(['Data Value', 'Lower CI Bound', 'Upper CI Bound'], axis=1)"
   ]
  },
  {
   "cell_type": "code",
   "execution_count": 16,
   "metadata": {},
   "outputs": [],
   "source": [
    "results = match_results.drop(['Proffesions', 'Title','best_match_score'], axis=1)"
   ]
  },
  {
   "cell_type": "code",
   "execution_count": 17,
   "metadata": {},
   "outputs": [
    {
     "output_type": "execute_result",
     "data": {
      "text/plain": "       best_match_score                       Proffesions  \\\n14272          0.666836    Oral and Maxillofacial Surgeon   \n14018          0.580219       Graduate Teaching Assistant   \n5552           0.525703    Document Management Specialist   \n7885           0.438576  Emergency Management Coordinator   \n3637           0.362685               Physician Assistant   \n\n                                 Title  Standard Error  \n14272  Oral and Maxillofacial Surgeons            0.00  \n14018     Graduate Teaching Assistants            0.13  \n5552   Document Management Specialists            0.23  \n7885    Emergency Management Directors            0.00  \n3637              Physician Assistants            0.13  ",
      "text/html": "<div>\n<style scoped>\n    .dataframe tbody tr th:only-of-type {\n        vertical-align: middle;\n    }\n\n    .dataframe tbody tr th {\n        vertical-align: top;\n    }\n\n    .dataframe thead th {\n        text-align: right;\n    }\n</style>\n<table border=\"1\" class=\"dataframe\">\n  <thead>\n    <tr style=\"text-align: right;\">\n      <th></th>\n      <th>best_match_score</th>\n      <th>Proffesions</th>\n      <th>Title</th>\n      <th>Standard Error</th>\n    </tr>\n  </thead>\n  <tbody>\n    <tr>\n      <th>14272</th>\n      <td>0.666836</td>\n      <td>Oral and Maxillofacial Surgeon</td>\n      <td>Oral and Maxillofacial Surgeons</td>\n      <td>0.00</td>\n    </tr>\n    <tr>\n      <th>14018</th>\n      <td>0.580219</td>\n      <td>Graduate Teaching Assistant</td>\n      <td>Graduate Teaching Assistants</td>\n      <td>0.13</td>\n    </tr>\n    <tr>\n      <th>5552</th>\n      <td>0.525703</td>\n      <td>Document Management Specialist</td>\n      <td>Document Management Specialists</td>\n      <td>0.23</td>\n    </tr>\n    <tr>\n      <th>7885</th>\n      <td>0.438576</td>\n      <td>Emergency Management Coordinator</td>\n      <td>Emergency Management Directors</td>\n      <td>0.00</td>\n    </tr>\n    <tr>\n      <th>3637</th>\n      <td>0.362685</td>\n      <td>Physician Assistant</td>\n      <td>Physician Assistants</td>\n      <td>0.13</td>\n    </tr>\n  </tbody>\n</table>\n</div>"
     },
     "metadata": {},
     "execution_count": 17
    }
   ],
   "source": [
    "score.head()"
   ]
  },
  {
   "cell_type": "code",
   "execution_count": null,
   "metadata": {},
   "outputs": [],
   "source": []
  }
 ]
}